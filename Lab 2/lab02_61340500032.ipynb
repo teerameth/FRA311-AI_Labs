{
 "cells": [
  {
   "cell_type": "markdown",
   "source": [
    "## Teerameth Rassameecharoenchai\n",
    "# 61340500032"
   ],
   "metadata": {
    "collapsed": false,
    "pycharm": {
     "name": "#%% md\n"
    }
   }
  },
  {
   "cell_type": "markdown",
   "metadata": {},
   "source": [
    "# 2 Sentiment Analysis\n",
    "## 2.2 Movie Review Data\n",
    "\n",
    "Let us first start by looking at the data provided with the exercise. We have positive and negative movie reviews labeled by human readers, all positive and negative reviews are in the ‘pos’ and ‘neg’ folders respectively. If you look in- side a sample file, you will see that these review messages have been ‘tokenized’, where all words are separated from punctuations.\n",
    "There are approximately 1000 files in each category with files names starting with cv000, cv001, cv002 and so on. You will split the dataset into training set and testing set.\n",
    "\n",
    "1. Write some code to load the data from text files."
   ]
  },
  {
   "cell_type": "code",
   "execution_count": 1,
   "metadata": {
    "collapsed": true
   },
   "outputs": [],
   "source": [
    "import glob, os\n",
    "\n",
    "import sklearn.model_selection\n",
    "from matplotlib import pyplot as plt\n",
    "from sklearn.neighbors import KNeighborsClassifier\n",
    "from sklearn.ensemble import RandomForestClassifier\n",
    "from sklearn.svm import SVC\n",
    "from sklearn.neural_network import MLPClassifier\n",
    "from sklearn.metrics import classification_report, confusion_matrix, accuracy_score, log_loss\n",
    "from sklearn.model_selection import cross_val_predict, cross_validate, KFold\n",
    "import pandas as pd\n",
    "import numpy as np\n",
    "folders_path = \"./review_polarity/txt_sentoken/\"\n",
    "pos_path = os.path.join(os.getcwd(), (folders_path + 'pos'))\n",
    "neg_path = os.path.join(os.getcwd(), (folders_path + 'neg'))\n",
    "pos_files = glob.glob(pos_path + '/*.txt')\n",
    "neg_files = glob.glob(neg_path + '/*.txt')\n",
    "data, label = [], []\n",
    "# วน loop เพื่อ load ไฟล์ (ได้มาเป็น list ของ string ที่แสดงถึงแต่ละบรรทัดในเอกสารแล้วจับรวมกันเป็น string 1 อันต่อเอกสาร)\n",
    "for file in pos_files:\n",
    "    f = open(file,\"r\")\n",
    "    lines = f.readlines()\n",
    "    string = \"\"\n",
    "    for line in lines: string += line\n",
    "    data.append(string)\n",
    "    label.append(1) # label 1 as positive\n",
    "for file in neg_files:\n",
    "    f = open(file,\"r\")\n",
    "    lines = f.readlines()\n",
    "    string = \"\"\n",
    "    for line in lines: string += line\n",
    "    data.append(string)\n",
    "    label.append(0) # label 0 as negative\n",
    "\n",
    "# Train-Test split 80:20\n",
    "train, test, label_train, label_test = sklearn.model_selection.train_test_split(data, label, test_size=0.2, random_state=136)"
   ]
  },
  {
   "cell_type": "markdown",
   "metadata": {},
   "source": [
    "## 2.3 TF-IDF\n",
    "From a raw text review, you want to create a vector, whose elements indicate the number of each word in each document. The frequency of all words within the documents are the ‘features’ of this machine learning problem.\n",
    "\n",
    "A popular method for transforming a text to a vector is called tf-idf, short for term frequencyinverse document frequency.\n",
    "\n",
    "1. Conduct a research about tf-idf and explain how it works.\n",
    "2. Scikit-learn provides a module for calculating this, this is called TfidfVec- torizer.\n",
    "You can study how this function is used here:\n",
    "\n",
    "`http://scikit-learn.org/stable/modules/generated/sklearn.feature_extraction.text.TfidfVectorizer.html`\n",
    "\n",
    "Write code to transform your text to tf-idf vector."
   ]
  },
  {
   "cell_type": "code",
   "execution_count": 2,
   "metadata": {
    "collapsed": true
   },
   "outputs": [
    {
     "data": {
      "text/plain": "[(1600, 35948), (400, 35948), (1600,), (400,)]"
     },
     "execution_count": 2,
     "metadata": {},
     "output_type": "execute_result"
    }
   ],
   "source": [
    "# สรุป tf-idf ที่ได้อ่านจาก towarddatascience.com เพื่อแปลงเอกสารเป็น tf-idf vector สำหรับนำไปใช้กับ model\n",
    "# tf(t,d) = count of t in d / number of words in d\n",
    "# Document Frequency: df(t) = occurrecnce of t in documents\n",
    "# Inverse Document Frequency: idf(t) = N/df = log(N/(df+1))\n",
    "# td-idf(t,d) = tf(t,d)*log(N/(df+1))\n",
    "# Ref: https://towardsdatascience.com/tf-idf-for-document-ranking-from-scratch-in-python-on-real-world-dataset-796d339a4089\n",
    "from sklearn.feature_extraction.text import TfidfVectorizer , TfidfTransformer\n",
    "# Pipeline vectorizer object & Compute TF-IDF scores\n",
    "vectorizer = TfidfVectorizer(analyzer='word' , stop_words='english')\n",
    "tf_trans = TfidfTransformer()\n",
    "tf_idf_vector_train = tf_trans.fit_transform(vectorizer.fit_transform(train))\n",
    "tf_idf_vector_test = tf_trans.fit_transform(vectorizer.transform(test)) # test set ใช้ vectorizer ตัวเดียวกับ training set เพื่อให้ feature ตรงกันจะได้เทียบกันได้\n",
    "# แปลงเป็น tf-idf vector แล้วก็แปลงเป็น pandas dataframe ต่อ\n",
    "X_train = pd.DataFrame(tf_idf_vector_train.toarray(), columns=vectorizer.get_feature_names())\n",
    "X_test = pd.DataFrame(tf_idf_vector_test.toarray(), columns=vectorizer.get_feature_names())\n",
    "y_train = np.ravel(pd.DataFrame(np.asarray(label_train)))\n",
    "y_test = np.ravel(pd.DataFrame(np.asarray(label_test)))\n",
    "[X_train.shape, X_test.shape, y_train.shape, y_test.shape]"
   ]
  },
  {
   "cell_type": "markdown",
   "metadata": {},
   "source": [
    "## 2.4 Classification\n",
    "\n",
    "Use 4 different models to classify each movie into positive or negative category.\n",
    "\n",
    "1. K-Nearestneighbormodel,using module `sklearn.neighbors.KNeighborsClassifier`\n",
    "2. RandomForest, using module `sklearn.ensemble.RandomForestClassifier`\n",
    "3. SVM, using module `sklearn.svm.SVC`\n",
    "4. Neural network, using `sklearn.neural_network.MLPClassifier`\n",
    "\n",
    "You may pick other models you would like to try. Just present results for at least 4 models.\n",
    "Please provide your code for model fitting and cross validation. Calculate your classification accuracy, precision, and recall."
   ]
  },
  {
   "cell_type": "code",
   "execution_count": 3,
   "metadata": {
    "collapsed": true
   },
   "outputs": [
    {
     "name": "stdout",
     "output_type": "stream",
     "text": [
      "Model name: K Neighbors Classifier [Fold 0]\n",
      "Confusion Matrix\n",
      "[[121  77]\n",
      " [ 73 129]]\n",
      "Classification report\n",
      "              precision    recall  f1-score   support\n",
      "\n",
      "         Neg       0.62      0.61      0.62       198\n",
      "         Pos       0.63      0.64      0.63       202\n",
      "\n",
      "    accuracy                           0.62       400\n",
      "   macro avg       0.62      0.62      0.62       400\n",
      "weighted avg       0.62      0.62      0.62       400\n",
      "\n",
      "Model name: K Neighbors Classifier [Fold 1]\n",
      "Confusion Matrix\n",
      "[[114  84]\n",
      " [ 67 135]]\n",
      "Classification report\n",
      "              precision    recall  f1-score   support\n",
      "\n",
      "         Neg       0.63      0.58      0.60       198\n",
      "         Pos       0.62      0.67      0.64       202\n",
      "\n",
      "    accuracy                           0.62       400\n",
      "   macro avg       0.62      0.62      0.62       400\n",
      "weighted avg       0.62      0.62      0.62       400\n",
      "\n",
      "Model name: K Neighbors Classifier [Fold 2]\n",
      "Confusion Matrix\n",
      "[[120  78]\n",
      " [ 75 127]]\n",
      "Classification report\n",
      "              precision    recall  f1-score   support\n",
      "\n",
      "         Neg       0.62      0.61      0.61       198\n",
      "         Pos       0.62      0.63      0.62       202\n",
      "\n",
      "    accuracy                           0.62       400\n",
      "   macro avg       0.62      0.62      0.62       400\n",
      "weighted avg       0.62      0.62      0.62       400\n",
      "\n",
      "Model name: K Neighbors Classifier [Fold 3]\n",
      "Confusion Matrix\n",
      "[[110  88]\n",
      " [ 80 122]]\n",
      "Classification report\n",
      "              precision    recall  f1-score   support\n",
      "\n",
      "         Neg       0.58      0.56      0.57       198\n",
      "         Pos       0.58      0.60      0.59       202\n",
      "\n",
      "    accuracy                           0.58       400\n",
      "   macro avg       0.58      0.58      0.58       400\n",
      "weighted avg       0.58      0.58      0.58       400\n",
      "\n",
      "Model name: K Neighbors Classifier [Fold 4]\n",
      "Confusion Matrix\n",
      "[[128  70]\n",
      " [ 67 135]]\n",
      "Classification report\n",
      "              precision    recall  f1-score   support\n",
      "\n",
      "         Neg       0.66      0.65      0.65       198\n",
      "         Pos       0.66      0.67      0.66       202\n",
      "\n",
      "    accuracy                           0.66       400\n",
      "   macro avg       0.66      0.66      0.66       400\n",
      "weighted avg       0.66      0.66      0.66       400\n",
      "\n",
      "Model name: Random Forest Classifier [Fold 0]\n",
      "Confusion Matrix\n",
      "[[175  23]\n",
      " [ 77 125]]\n",
      "Classification report\n",
      "              precision    recall  f1-score   support\n",
      "\n",
      "         Neg       0.69      0.88      0.78       198\n",
      "         Pos       0.84      0.62      0.71       202\n",
      "\n",
      "    accuracy                           0.75       400\n",
      "   macro avg       0.77      0.75      0.75       400\n",
      "weighted avg       0.77      0.75      0.75       400\n",
      "\n",
      "Model name: Random Forest Classifier [Fold 1]\n",
      "Confusion Matrix\n",
      "[[176  22]\n",
      " [ 71 131]]\n",
      "Classification report\n",
      "              precision    recall  f1-score   support\n",
      "\n",
      "         Neg       0.71      0.89      0.79       198\n",
      "         Pos       0.86      0.65      0.74       202\n",
      "\n",
      "    accuracy                           0.77       400\n",
      "   macro avg       0.78      0.77      0.76       400\n",
      "weighted avg       0.79      0.77      0.76       400\n",
      "\n",
      "Model name: Random Forest Classifier [Fold 2]\n",
      "Confusion Matrix\n",
      "[[177  21]\n",
      " [ 69 133]]\n",
      "Classification report\n",
      "              precision    recall  f1-score   support\n",
      "\n",
      "         Neg       0.72      0.89      0.80       198\n",
      "         Pos       0.86      0.66      0.75       202\n",
      "\n",
      "    accuracy                           0.78       400\n",
      "   macro avg       0.79      0.78      0.77       400\n",
      "weighted avg       0.79      0.78      0.77       400\n",
      "\n",
      "Model name: Random Forest Classifier [Fold 3]\n",
      "Confusion Matrix\n",
      "[[177  21]\n",
      " [ 79 123]]\n",
      "Classification report\n",
      "              precision    recall  f1-score   support\n",
      "\n",
      "         Neg       0.69      0.89      0.78       198\n",
      "         Pos       0.85      0.61      0.71       202\n",
      "\n",
      "    accuracy                           0.75       400\n",
      "   macro avg       0.77      0.75      0.75       400\n",
      "weighted avg       0.77      0.75      0.75       400\n",
      "\n",
      "Model name: Random Forest Classifier [Fold 4]\n",
      "Confusion Matrix\n",
      "[[173  25]\n",
      " [ 73 129]]\n",
      "Classification report\n",
      "              precision    recall  f1-score   support\n",
      "\n",
      "         Neg       0.70      0.87      0.78       198\n",
      "         Pos       0.84      0.64      0.72       202\n",
      "\n",
      "    accuracy                           0.76       400\n",
      "   macro avg       0.77      0.76      0.75       400\n",
      "weighted avg       0.77      0.76      0.75       400\n",
      "\n",
      "Model name: SVC [Fold 0]\n",
      "Confusion Matrix\n",
      "[[160  38]\n",
      " [ 51 151]]\n",
      "Classification report\n",
      "              precision    recall  f1-score   support\n",
      "\n",
      "         Neg       0.76      0.81      0.78       198\n",
      "         Pos       0.80      0.75      0.77       202\n",
      "\n",
      "    accuracy                           0.78       400\n",
      "   macro avg       0.78      0.78      0.78       400\n",
      "weighted avg       0.78      0.78      0.78       400\n",
      "\n",
      "Model name: SVC [Fold 1]\n",
      "Confusion Matrix\n",
      "[[151  47]\n",
      " [ 39 163]]\n",
      "Classification report\n",
      "              precision    recall  f1-score   support\n",
      "\n",
      "         Neg       0.79      0.76      0.78       198\n",
      "         Pos       0.78      0.81      0.79       202\n",
      "\n",
      "    accuracy                           0.79       400\n",
      "   macro avg       0.79      0.78      0.78       400\n",
      "weighted avg       0.79      0.79      0.78       400\n",
      "\n",
      "Model name: SVC [Fold 2]\n",
      "Confusion Matrix\n",
      "[[161  37]\n",
      " [ 46 156]]\n",
      "Classification report\n",
      "              precision    recall  f1-score   support\n",
      "\n",
      "         Neg       0.78      0.81      0.80       198\n",
      "         Pos       0.81      0.77      0.79       202\n",
      "\n",
      "    accuracy                           0.79       400\n",
      "   macro avg       0.79      0.79      0.79       400\n",
      "weighted avg       0.79      0.79      0.79       400\n",
      "\n",
      "Model name: SVC [Fold 3]\n",
      "Confusion Matrix\n",
      "[[156  42]\n",
      " [ 43 159]]\n",
      "Classification report\n",
      "              precision    recall  f1-score   support\n",
      "\n",
      "         Neg       0.78      0.79      0.79       198\n",
      "         Pos       0.79      0.79      0.79       202\n",
      "\n",
      "    accuracy                           0.79       400\n",
      "   macro avg       0.79      0.79      0.79       400\n",
      "weighted avg       0.79      0.79      0.79       400\n",
      "\n",
      "Model name: SVC [Fold 4]\n",
      "Confusion Matrix\n",
      "[[155  43]\n",
      " [ 44 158]]\n",
      "Classification report\n",
      "              precision    recall  f1-score   support\n",
      "\n",
      "         Neg       0.78      0.78      0.78       198\n",
      "         Pos       0.79      0.78      0.78       202\n",
      "\n",
      "    accuracy                           0.78       400\n",
      "   macro avg       0.78      0.78      0.78       400\n",
      "weighted avg       0.78      0.78      0.78       400\n",
      "\n",
      "Model name: Neural Network [Fold 0]\n",
      "Confusion Matrix\n",
      "[[149  49]\n",
      " [ 39 163]]\n",
      "Classification report\n",
      "              precision    recall  f1-score   support\n",
      "\n",
      "         Neg       0.79      0.75      0.77       198\n",
      "         Pos       0.77      0.81      0.79       202\n",
      "\n",
      "    accuracy                           0.78       400\n",
      "   macro avg       0.78      0.78      0.78       400\n",
      "weighted avg       0.78      0.78      0.78       400\n",
      "\n",
      "Model name: Neural Network [Fold 1]\n",
      "Confusion Matrix\n",
      "[[149  49]\n",
      " [ 35 167]]\n",
      "Classification report\n",
      "              precision    recall  f1-score   support\n",
      "\n",
      "         Neg       0.81      0.75      0.78       198\n",
      "         Pos       0.77      0.83      0.80       202\n",
      "\n",
      "    accuracy                           0.79       400\n",
      "   macro avg       0.79      0.79      0.79       400\n",
      "weighted avg       0.79      0.79      0.79       400\n",
      "\n",
      "Model name: Neural Network [Fold 2]\n",
      "Confusion Matrix\n",
      "[[149  49]\n",
      " [ 45 157]]\n",
      "Classification report\n",
      "              precision    recall  f1-score   support\n",
      "\n",
      "         Neg       0.77      0.75      0.76       198\n",
      "         Pos       0.76      0.78      0.77       202\n",
      "\n",
      "    accuracy                           0.77       400\n",
      "   macro avg       0.77      0.76      0.76       400\n",
      "weighted avg       0.77      0.77      0.76       400\n",
      "\n",
      "Model name: Neural Network [Fold 3]\n",
      "Confusion Matrix\n",
      "[[130  68]\n",
      " [ 24 178]]\n",
      "Classification report\n",
      "              precision    recall  f1-score   support\n",
      "\n",
      "         Neg       0.84      0.66      0.74       198\n",
      "         Pos       0.72      0.88      0.79       202\n",
      "\n",
      "    accuracy                           0.77       400\n",
      "   macro avg       0.78      0.77      0.77       400\n",
      "weighted avg       0.78      0.77      0.77       400\n",
      "\n",
      "Model name: Neural Network [Fold 4]\n",
      "Confusion Matrix\n",
      "[[144  54]\n",
      " [ 36 166]]\n",
      "Classification report\n",
      "              precision    recall  f1-score   support\n",
      "\n",
      "         Neg       0.80      0.73      0.76       198\n",
      "         Pos       0.75      0.82      0.79       202\n",
      "\n",
      "    accuracy                           0.78       400\n",
      "   macro avg       0.78      0.77      0.77       400\n",
      "weighted avg       0.78      0.78      0.77       400\n",
      "\n"
     ]
    }
   ],
   "source": [
    "# ทำ cross validation แล้วเอามาทดสอบด้วย test set อีกทีโดยทำเป็น classification report เพื่อให้ได้ทั้ง accuracy, precision, recall\n",
    "# Build 4 models and store in list\n",
    "knc = KNeighborsClassifier(n_neighbors=5)\n",
    "rfc = RandomForestClassifier(n_estimators=100, random_state=136)\n",
    "svc = SVC(kernel='rbf', random_state=136)\n",
    "mlpc = MLPClassifier(hidden_layer_sizes=(64,), activation='relu', early_stopping=True, n_iter_no_change=20, random_state=136)\n",
    "model_list = [knc, rfc, svc, mlpc]\n",
    "model_names = ['K Neighbors Classifier', 'Random Forest Classifier', 'SVC', 'Neural Network']\n",
    "for i, model in enumerate(model_list): # Loop all models in list\n",
    "    # Apply cross validation using K=5\n",
    "    for j, model in enumerate(cross_validate(model, X_train, y_train, cv=5, return_estimator=True)['estimator']):\n",
    "        y_pred = model.predict(X_test)\n",
    "        print(\"Model name: %s [Fold %d]\"%(model_names[i], j))\n",
    "        print(\"Confusion Matrix\")\n",
    "        print(confusion_matrix(y_test, y_pred))\n",
    "        print(\"Classification report\")\n",
    "        print(classification_report(y_test, y_pred, target_names=['Neg', 'Pos']))"
   ]
  },
  {
   "cell_type": "markdown",
   "metadata": {},
   "source": [
    "## 2.5 Model Tuning\n",
    "\n",
    "Can you try to beat the simple model you created above? Here are some things you may try:\n",
    "\n",
    "* When creating TfidfVectorizer object, you may tweak sublinear_tf parameter which use the tf with logarithmic scale instead of the usual tf.\n",
    "* You may also exclude words that are too frequent or too rare, by adjusting max_df and min_df.\n",
    "* Adjusting parameters available in the model, like neural network structure or number of trees in the forest.\n",
    "\n",
    "Design at least 3 experiments using these techniques. Show your experimental results."
   ]
  },
  {
   "cell_type": "markdown",
   "source": [
    "แยก dataset ใหม่เป็น train-validation-test ในอัตราส่วน 70:20:10 โดยใช้ validation set เป็นตัววัดว่าควรเลือก parameter อันไหนดีโดยใช้ log_loss เป็นเกณฑ์ จากนั้นจึงทดสอบด้วย test set อีกที\n",
    "ตอนแปลง dataset เป็น tf-idf vector ก็ใช้ feture เดียวกันกับ training set ทั้งหมด"
   ],
   "metadata": {
    "collapsed": false,
    "pycharm": {
     "name": "#%% md\n"
    }
   }
  },
  {
   "cell_type": "code",
   "execution_count": 4,
   "metadata": {
    "collapsed": true
   },
   "outputs": [
    {
     "data": {
      "text/plain": "[(1400, 34085), (198, 34085), (1400,), (198,)]"
     },
     "execution_count": 4,
     "metadata": {},
     "output_type": "execute_result"
    }
   ],
   "source": [
    "## Use 1+log(tf) by setting sublinear_tf=True\n",
    "vectorizer = TfidfVectorizer(analyzer='word',\n",
    "                             stop_words='english',\n",
    "                             sublinear_tf=True,\n",
    "                             max_df=0.9, # exclude too frequence words (more than 0.9 by proportion of documents)\n",
    "                             min_df=0.1) # exclude less sequence words (less than 0.1 by proportion of documents)\n",
    "tf_trans = TfidfTransformer()\n",
    "tf_idf_vector=tf_trans.fit_transform(vectorizer.fit_transform(train))\n",
    "X = pd.DataFrame(tf_idf_vector.toarray(), columns=vectorizer.get_feature_names())\n",
    "y = np.ravel(pd.DataFrame(np.asarray(label)))\n",
    "\n",
    "## Train-Val-Test split 70:20:10\n",
    "train, buff, label_train, label_buff = sklearn.model_selection.train_test_split(data, label, test_size=0.3)\n",
    "val, test, label_val, label_test = sklearn.model_selection.train_test_split(buff, label_buff, test_size=0.33)\n",
    "vectorizer = TfidfVectorizer(analyzer='word' , stop_words='english')\n",
    "tf_trans = TfidfTransformer()\n",
    "tf_idf_vector_train = tf_trans.fit_transform(vectorizer.fit_transform(train))\n",
    "tf_idf_vector_val = tf_trans.fit_transform(vectorizer.transform(val))\n",
    "tf_idf_vector_test = tf_trans.fit_transform(vectorizer.transform(test))\n",
    "X_train = pd.DataFrame(tf_idf_vector_train.toarray(), columns=vectorizer.get_feature_names())\n",
    "X_val = pd.DataFrame(tf_idf_vector_val.toarray(), columns=vectorizer.get_feature_names())\n",
    "X_test = pd.DataFrame(tf_idf_vector_test.toarray(), columns=vectorizer.get_feature_names())\n",
    "y_train = np.ravel(pd.DataFrame(np.asarray(label_train)))\n",
    "y_val = np.ravel(pd.DataFrame(np.asarray(label_val)))\n",
    "y_test = np.ravel(pd.DataFrame(np.asarray(label_test)))\n",
    "[X_train.shape, X_test.shape, y_train.shape, y_test.shape]"
   ]
  },
  {
   "cell_type": "markdown",
   "source": [
    "Tune KNC for number of neighbors\n",
    "วน loop ลองใช้ค่า K ต่าง ๆ แล้วนำมา plot graph ควรจะได้กราฟที่จะเริ่มมี log_loss นิ่งเมื่อ K มากถึงระดับนึง (ถ้า K น้อยจะทำให้ noise มีผลมากแต่ถ้า K มากไปจะทำให้ใช้ทรัพยากรมาก)"
   ],
   "metadata": {
    "collapsed": false
   }
  },
  {
   "cell_type": "code",
   "source": [
    "log = {'n':[], 'log_loss':[]}\n",
    "for n in range(1, 300):\n",
    "    model = KNeighborsClassifier(n_neighbors=n)\n",
    "    model.fit(X_train, y_train)\n",
    "    y_pred = model.predict(X_val)\n",
    "    acc = log_loss(y_val, y_pred)\n",
    "    print(\"n=%d: %f\"%(n,acc), end='\\r')\n",
    "    log['n'].append(n)\n",
    "    log['log_loss'].append(acc)\n",
    "plt.plot(log['n'], log['log_loss'])\n",
    "plt.xlabel('n')\n",
    "plt.ylabel('log_loss')"
   ],
   "metadata": {
    "collapsed": false,
    "pycharm": {
     "name": "#%%\n"
    }
   },
   "execution_count": 5,
   "outputs": [
    {
     "name": "stdout",
     "output_type": "stream",
     "text": [
      "n=299: 7.303059\r"
     ]
    },
    {
     "data": {
      "text/plain": "Text(0, 0.5, 'log_loss')"
     },
     "execution_count": 5,
     "metadata": {},
     "output_type": "execute_result"
    },
    {
     "data": {
      "text/plain": "<Figure size 432x288 with 1 Axes>",
      "image/png": "[encoded data removed]"
     },
     "metadata": {
      "needs_background": "light"
     },
     "output_type": "display_data"
    }
   ]
  },
  {
   "cell_type": "markdown",
   "source": [
    "เลือก n=100 เนื่องจากมีค่าน้อย(จะได้ใช้ทรัพยากรน้อย)แต่ให้ loss น้อยพอสมควรใน validation set"
   ],
   "metadata": {
    "collapsed": false
   }
  },
  {
   "cell_type": "code",
   "execution_count": 6,
   "outputs": [
    {
     "name": "stdout",
     "output_type": "stream",
     "text": [
      "Confusion Matrix\n",
      "[[78 20]\n",
      " [26 74]]\n",
      "Classification report\n",
      "              precision    recall  f1-score   support\n",
      "\n",
      "         Neg       0.75      0.80      0.77        98\n",
      "         Pos       0.79      0.74      0.76       100\n",
      "\n",
      "    accuracy                           0.77       198\n",
      "   macro avg       0.77      0.77      0.77       198\n",
      "weighted avg       0.77      0.77      0.77       198\n",
      "\n"
     ]
    }
   ],
   "source": [
    "model = KNeighborsClassifier(n_neighbors=100)\n",
    "model.fit(X_train, y_train)\n",
    "y_pred = model.predict(X_test)\n",
    "print(\"Confusion Matrix\")\n",
    "print(confusion_matrix(y_test, y_pred))\n",
    "print(\"Classification report\")\n",
    "print(classification_report(y_test, y_pred, target_names=['Neg', 'Pos']))"
   ],
   "metadata": {
    "collapsed": false,
    "pycharm": {
     "name": "#%% Testing\n"
    }
   }
  },
  {
   "cell_type": "markdown",
   "source": [
    "Tune Random Forest Classification\n",
    "วน loop ทดลองกำหนดจำนวนต้นไม้แล้ว plot log_loss เทียบด้วยเหตุผลเดียวกับ KNC"
   ],
   "metadata": {
    "collapsed": false
   }
  },
  {
   "cell_type": "code",
   "source": [
    "log = {'n':[], 'log_loss':[]}\n",
    "for n in range(1, 150):\n",
    "    model = RandomForestClassifier(n_estimators=n, random_state=136)\n",
    "    model.fit(X_train, y_train)\n",
    "    y_pred = model.predict(X_val)\n",
    "    acc = log_loss(y_val, y_pred)\n",
    "    print(\"n=%d: %f\"%(n,acc), end=\"\\r\")\n",
    "    log['n'].append(n)\n",
    "    log['log_loss'].append(acc)\n",
    "plt.plot(log['n'], log['log_loss'])\n",
    "plt.xlabel('n')\n",
    "plt.ylabel('log_loss')"
   ],
   "metadata": {
    "collapsed": false,
    "pycharm": {
     "name": "#%%\n"
    }
   },
   "execution_count": 7,
   "outputs": [
    {
     "name": "stdout",
     "output_type": "stream",
     "text": [
      "n=149: 5.412843\r"
     ]
    },
    {
     "data": {
      "text/plain": "Text(0, 0.5, 'log_loss')"
     },
     "execution_count": 7,
     "metadata": {},
     "output_type": "execute_result"
    },
    {
     "data": {
      "text/plain": "<Figure size 432x288 with 1 Axes>",
      "image/png": "[encoded data removed]"
     },
     "metadata": {
      "needs_background": "light"
     },
     "output_type": "display_data"
    }
   ]
  },
  {
   "cell_type": "markdown",
   "source": [
    "เลือกจำนวน tree = 40 เนื่องจาก log_loss เริ่มลู่เข้าพอดีเมื่อทดสอบกับ validation set (ถ้าใช้จำนวน tree มากเกินไปจะใช้ทรัพยากรมากไปด้วย)\n",
    "และได้ผลลัพทธ์จาก test set ดังนี้"
   ],
   "metadata": {
    "collapsed": false
   }
  },
  {
   "cell_type": "code",
   "execution_count": 8,
   "outputs": [
    {
     "name": "stdout",
     "output_type": "stream",
     "text": [
      "Confusion Matrix\n",
      "[[84 14]\n",
      " [44 56]]\n",
      "Classification report\n",
      "              precision    recall  f1-score   support\n",
      "\n",
      "         Neg       0.66      0.86      0.74        98\n",
      "         Pos       0.80      0.56      0.66       100\n",
      "\n",
      "    accuracy                           0.71       198\n",
      "   macro avg       0.73      0.71      0.70       198\n",
      "weighted avg       0.73      0.71      0.70       198\n",
      "\n"
     ]
    }
   ],
   "source": [
    "model = RandomForestClassifier(n_estimators=40, random_state=136)\n",
    "model.fit(X_train, y_train)\n",
    "y_pred = model.predict(X_test)\n",
    "print(\"Confusion Matrix\")\n",
    "print(confusion_matrix(y_test, y_pred))\n",
    "print(\"Classification report\")\n",
    "print(classification_report(y_test, y_pred, target_names=['Neg', 'Pos']))"
   ],
   "metadata": {
    "collapsed": false,
    "pycharm": {
     "name": "#%% Testing\n"
    }
   }
  },
  {
   "cell_type": "markdown",
   "source": [
    "Tune SVM for kernel\n",
    "ลองเลือกใช้ kernel แบบต่าง ๆ เพื่อดูว่า fit ด้วยอะไรแล้วเข้ากับข้อมูลได้ดีที่สุด"
   ],
   "metadata": {
    "collapsed": false
   }
  },
  {
   "cell_type": "code",
   "source": [
    "kernel_list = ['linear', 'poly', 'rbf', 'sigmoid']\n",
    "log_loss_list = []\n",
    "model_list = []\n",
    "for kernel in kernel_list:\n",
    "    model = SVC(kernel=kernel, random_state=136)\n",
    "    model.fit(X_train, y_train)\n",
    "    model_list.append(model)\n",
    "    y_pred = model.predict(X_val)\n",
    "    acc = log_loss(y_val, y_pred)\n",
    "    print(\"kernel=%s: %f\"%(kernel,acc))\n",
    "    log_loss_list.append(acc)\n",
    "selected_kernel = kernel_list[log_loss_list.index(min(log_loss_list))]\n",
    "print(\"Select \"+selected_kernel+\" as kernel due to lowest log_loss in validation set.\")"
   ],
   "metadata": {
    "collapsed": false,
    "pycharm": {
     "name": "#%%\n"
    }
   },
   "execution_count": 9,
   "outputs": [
    {
     "name": "stdout",
     "output_type": "stream",
     "text": [
      "kernel=linear: 6.959395\n",
      "kernel=poly: 11.942608\n",
      "kernel=rbf: 7.388998\n",
      "kernel=sigmoid: 7.388990\n",
      "Select linear as kernel due to lowest log_loss in validation set.\n"
     ]
    }
   ]
  },
  {
   "cell_type": "code",
   "execution_count": 10,
   "outputs": [
    {
     "name": "stdout",
     "output_type": "stream",
     "text": [
      "Confusion Matrix\n",
      "[[77 21]\n",
      " [19 81]]\n",
      "Classification report\n",
      "              precision    recall  f1-score   support\n",
      "\n",
      "         Neg       0.80      0.79      0.79        98\n",
      "         Pos       0.79      0.81      0.80       100\n",
      "\n",
      "    accuracy                           0.80       198\n",
      "   macro avg       0.80      0.80      0.80       198\n",
      "weighted avg       0.80      0.80      0.80       198\n",
      "\n"
     ]
    }
   ],
   "source": [
    "model = model_list[log_loss_list.index(min(log_loss_list))] # pick best model to test\n",
    "y_pred = model.predict(X_test)\n",
    "print(\"Confusion Matrix\")\n",
    "print(confusion_matrix(y_test, y_pred))\n",
    "print(\"Classification report\")\n",
    "print(classification_report(y_test, y_pred, target_names=['Neg', 'Pos']))"
   ],
   "metadata": {
    "collapsed": false,
    "pycharm": {
     "name": "#%% Testing\n"
    }
   }
  },
  {
   "cell_type": "markdown",
   "source": [
    "Tune Neural Network hyperparameter using grid search (hidden layer size ,activation function, solver, learning rate)\n",
    "(นานมากกกก)"
   ],
   "metadata": {
    "collapsed": false,
    "pycharm": {
     "name": "#%% md\n"
    }
   }
  },
  {
   "cell_type": "code",
   "execution_count": 11,
   "outputs": [
    {
     "name": "stdout",
     "output_type": "stream",
     "text": [
      "Best parameters found:\n",
      " {'activation': 'relu', 'alpha': 0.005, 'hidden_layer_sizes': (64, 32, 64), 'learning_rate': 'constant', 'solver': 'adam'}\n"
     ]
    }
   ],
   "source": [
    "# Ref:https://panjeh.medium.com/scikit-learn-hyperparameter-optimization-for-mlpclassifier-4d670413042b\n",
    "mlp_gs = MLPClassifier(max_iter=1000, early_stopping=True, n_iter_no_change=20, random_state=136) # Setup early stop if no improvement by 20 iteration\n",
    "parameter_space = {\n",
    "    'hidden_layer_sizes': [(64,32,64),(64,)],\n",
    "    'activation': ['tanh', 'relu'],\n",
    "    'solver': ['sgd', 'adam'],\n",
    "    'alpha': [0.001, 0.005, 0.01, 0.05],\n",
    "    'learning_rate': ['constant','adaptive'],\n",
    "}\n",
    "from sklearn.model_selection import GridSearchCV\n",
    "clf = GridSearchCV(mlp_gs, parameter_space, n_jobs=-1, cv=5) # 5-folds of K-fold validation\n",
    "clf.fit(X_train, y_train)\n",
    "print('Best parameters found:\\n', clf.best_params_)"
   ],
   "metadata": {
    "collapsed": false,
    "pycharm": {
     "name": "#%%\n"
    }
   }
  },
  {
   "cell_type": "code",
   "execution_count": 12,
   "outputs": [
    {
     "name": "stdout",
     "output_type": "stream",
     "text": [
      "Confusion Matrix\n",
      "[[79 19]\n",
      " [21 79]]\n",
      "Classification report\n",
      "              precision    recall  f1-score   support\n",
      "\n",
      "         Neg       0.79      0.81      0.80        98\n",
      "         Pos       0.81      0.79      0.80       100\n",
      "\n",
      "    accuracy                           0.80       198\n",
      "   macro avg       0.80      0.80      0.80       198\n",
      "weighted avg       0.80      0.80      0.80       198\n",
      "\n"
     ]
    }
   ],
   "source": [
    "mlp_gs_best = clf.best_estimator_\n",
    "y_pred = mlp_gs_best.predict(X_test)\n",
    "print(\"Confusion Matrix\")\n",
    "print(confusion_matrix(y_test, y_pred))\n",
    "print(\"Classification report\")\n",
    "print(classification_report(y_test, y_pred, target_names=['Neg', 'Pos']))\n"
   ],
   "metadata": {
    "collapsed": false,
    "pycharm": {
     "name": "#%% Testing\n"
    }
   }
  },
  {
   "cell_type": "markdown",
   "metadata": {},
   "source": [
    "# 3 Text Clustering\n",
    "We have heard about Google News clustering. In this exercise, we are going to implement it with Python.\n",
    "\n",
    "## 3.1 Data Preprocessing\n",
    "Let’s switch up and use another dataset called 20newsgroup data, which is a collection of approximately 20,000 newsgroup documents, partitioned (nearly) evenly across 20 different newsgroups. The data is collected from a university’s mailing list, where students exchange opinions in everything from motorcycles to middle east politics.\n",
    "\n",
    "1. Import data using sklearn.datasets.fetch_20newsgroups \n",
    "2. Transform data to vector with TfidfVectorizer"
   ]
  },
  {
   "cell_type": "markdown",
   "source": [
    "load dataset มาเเล้วทำเหมือนเดิมคือแปลงให้เป็น tf-idf vector แต่คราวนี้ไม่ต้องแบ่ง train-test แล้วเพราะเรากำลังทำ clustering อยู่"
   ],
   "metadata": {
    "collapsed": false,
    "pycharm": {
     "name": "#%% md\n"
    }
   }
  },
  {
   "cell_type": "code",
   "execution_count": 13,
   "metadata": {
    "collapsed": true
   },
   "outputs": [
    {
     "name": "stdout",
     "output_type": "stream",
     "text": [
      "(11314, 62)\n"
     ]
    }
   ],
   "source": [
    "from sklearn.datasets import fetch_20newsgroups\n",
    "from sklearn.feature_extraction.text import TfidfVectorizer , TfidfTransformer\n",
    "\n",
    "newsgroups = fetch_20newsgroups(subset='train')\n",
    "vectorizer = TfidfVectorizer(analyzer='word',\n",
    "                             stop_words='english',\n",
    "                             max_df=0.9, # exclude too frequence words (more than 0.99 by proportion of documents)\n",
    "                             min_df=0.1) # exclude less frequence words (less than 0.01 by proportion of documents)\n",
    "vectors = vectorizer.fit_transform(newsgroups.data)\n",
    "print(vectors.shape)"
   ]
  },
  {
   "cell_type": "markdown",
   "metadata": {},
   "source": [
    "## 3.2 Clustering\n",
    "We are going to use the simplest clustering model, k-means clustering, to do this task. Our hope is that this simple algorithm will result in meaningful news categories, without using labels.\n",
    "\n",
    "1. Fit K-Means clustering model to the text vector. What is the value of K you should pick? Why?\n",
    "2. Use Silhouette score to evaluate your clusters. Try to evaluate the model for different values of k to see which k fits best for the dataset."
   ]
  },
  {
   "cell_type": "code",
   "execution_count": 14,
   "metadata": {
    "collapsed": true
   },
   "outputs": [],
   "source": [
    "from sklearn.cluster import KMeans\n",
    "from sklearn.metrics import silhouette_score\n",
    "from sklearn.preprocessing import StandardScaler\n",
    "import pandas as pd\n",
    "from matplotlib import pyplot as plt\n",
    "\n",
    "X = pd.DataFrame(vectors.toarray(), columns=vectorizer.get_feature_names())\n",
    "y = newsgroups.target\n",
    "scaler = StandardScaler()\n",
    "X = scaler.fit_transform(X)"
   ]
  },
  {
   "cell_type": "markdown",
   "source": [
    "นำมา loop ลองค่า K ต่าง ๆ แล้วคำนวนหาทั้ง silhouette score และ sum od squared distance เพื่อนำมา plot graph ดูว่าควรใช้ค่า K เท่าไหร่ดีจาก elbow method"
   ],
   "metadata": {
    "collapsed": false,
    "pycharm": {
     "name": "#%% md\n"
    }
   }
  },
  {
   "cell_type": "code",
   "execution_count": 15,
   "outputs": [
    {
     "data": {
      "text/plain": "<Figure size 432x288 with 1 Axes>",
      "image/png": "[encoded data removed]"
     },
     "metadata": {
      "needs_background": "light"
     },
     "output_type": "display_data"
    },
    {
     "data": {
      "text/plain": "<Figure size 432x288 with 1 Axes>",
      "image/png": "[encoded data removed]"
     },
     "metadata": {
      "needs_background": "light"
     },
     "output_type": "display_data"
    }
   ],
   "source": [
    "# Ref: https://blog.cambridgespark.com/how-to-determine-the-optimal-number-of-clusters-for-k-means-clustering-14f27070048f\n",
    "silhouette_score_list = []\n",
    "sse = []\n",
    "K = range(2, 100)\n",
    "for k in K:\n",
    "    kmeans = KMeans(init=\"random\",n_clusters=k, n_init=10,max_iter=300, random_state=136)\n",
    "    kmeans.fit(X)\n",
    "    score = silhouette_score(X, kmeans.labels_)\n",
    "    silhouette_score_list.append(score)\n",
    "    sse.append(kmeans.inertia_)\n",
    "    print(\"k=%d: silhouette score=%f\"%(k, score), end='\\r')\n",
    "plt.plot(K, silhouette_score_list, 'bx-')\n",
    "plt.xlabel('k')\n",
    "plt.ylabel('silhouette score')\n",
    "plt.title('Silhouette score For Optimal k')\n",
    "plt.show()\n",
    "plt.plot(K, sse, 'bx-')\n",
    "plt.xlabel('k')\n",
    "plt.ylabel('Sum_of_squared_distances')\n",
    "plt.title('Elbow Method For Optimal k')\n",
    "plt.show()"
   ],
   "metadata": {
    "collapsed": false,
    "pycharm": {
     "name": "#%% Using Silhouette score and Elbow method to determine best K\n"
    }
   }
  },
  {
   "cell_type": "markdown",
   "source": [
    "graph ของ silhouette score ดูเพื่อเลือกค่า K ที่ดีที่สุดได้ง่ายคือหยิบอันที่ได้ score มากที่สุดมาเลย\n",
    "แต่ graph ของ sum of squared error ดูยากจึงยึดตาม silhouette score ดีกว่า"
   ],
   "metadata": {
    "collapsed": false,
    "pycharm": {
     "name": "#%% md\n"
    }
   }
  },
  {
   "cell_type": "code",
   "execution_count": 16,
   "outputs": [
    {
     "name": "stdout",
     "output_type": "stream",
     "text": [
      "Best k is 51 (selected from highest silhouette score)\n"
     ]
    }
   ],
   "source": [
    "best = silhouette_score_list.index([max(silhouette_score_list)])+2\n",
    "print(\"Best k is %d (selected from highest silhouette score)\"%best)"
   ],
   "metadata": {
    "collapsed": false,
    "pycharm": {
     "name": "#%%\n"
    }
   }
  },
  {
   "cell_type": "markdown",
   "metadata": {},
   "source": [
    "# 3.3 Topic Terms\n",
    "We want to explore each cluster to understand what news articles are in the cluster, what terms are associated with the cluster. This will require a bit of hacking.\n",
    "1. Use TfidfVectorizer.get feature names to extract words associated with each dimension of the text vector.\n",
    "2. Extract cluster’s centroids using kmeans.cluster centers .\n",
    "3. For each centroid, print the top 15 words that have the highest frequency."
   ]
  },
  {
   "cell_type": "markdown",
   "source": [
    "นำค่า K ที่ทดสอบเเลวว่าดีที่สุดมาทำ clustering แล้วดึง centroid จากนั้นทำการเรียงลำดับ tf-idf แล้ว print features ที่มี tf-idf มากที่สุด 15 อันดับเเรกออกมา"
   ],
   "metadata": {
    "collapsed": false,
    "pycharm": {
     "name": "#%% md\n"
    }
   }
  },
  {
   "cell_type": "code",
   "execution_count": 17,
   "metadata": {
    "collapsed": true
   },
   "outputs": [],
   "source": [
    "kmeans = KMeans(init=\"random\",n_clusters=best, n_init=10,max_iter=300)\n",
    "kmeans.fit(X)\n",
    "y_pred = kmeans.predict(X)"
   ]
  },
  {
   "cell_type": "code",
   "execution_count": 18,
   "outputs": [
    {
     "name": "stdout",
     "output_type": "stream",
     "text": [
      "Centroid: 0\n",
      "['sure' 'writes' 'article' 'edu' 'nntp' 'just' 'host' 'posting' 'make'\n",
      " 'com' 'let' 'like' 'way' 'did' 'world']\n",
      "Centroid: 1\n",
      "['read' 'don' 'question' 'thanks' 'want' 'reply' 'know' 'need' 'help'\n",
      " 'people' 'writes' 'say' 'work' 'use' 'posting']\n",
      "Centroid: 2\n",
      "['mail' 'thanks' 'reply' 'university' 've' 'know' 'read' 'used' 'new'\n",
      " 'usa' 'use' 'like' 'does' 'll' 'ca']\n",
      "Centroid: 3\n",
      "['right' 'way' 'just' 'people' 'say' 'does' 'writes' 'did' 'years' 'like'\n",
      " 'state' 'got' 'article' 'thing' 'said']\n",
      "Centroid: 4\n",
      "['cs' 'edu' 'computer' 'article' 'writes' 'university' 'reply' 'ca'\n",
      " 'believe' 'doesn' 'distribution' 'thing' 'll' 'read' 'years']\n",
      "Centroid: 5\n",
      "['host' 'nntp' 'posting' 'thanks' 'reply' 'com' 'mail' '10' 'edu'\n",
      " 'computer' 'need' 'does' 'help' 'know' 'used']\n",
      "Centroid: 6\n",
      "['usa' 'distribution' 'nntp' 'host' 'posting' 'edu' 'university' 'thanks'\n",
      " 'mail' 'com' '10' 'computer' 'need' 'reply' 'work']\n",
      "Centroid: 7\n",
      "['doesn' 'like' 'just' 'know' 'writes' 'article' 'going' 'really' 'work'\n",
      " 'does' 'thing' 'world' 'way' 'problem' 'say']\n",
      "Centroid: 8\n",
      "['years' 'writes' 'new' 'time' '10' 'article' 'question' 'people' 'com'\n",
      " 'make' 'good' 'case' 'say' 'said' 'long']\n",
      "Centroid: 9\n",
      "['good' 'got' 'like' 'just' 'really' 'sure' 'better' 'things' 've' 'com'\n",
      " 'going' 'thing' 'want' 'read' 'make']\n",
      "Centroid: 10\n",
      "['ll' 'mail' 'just' 'got' 'usa' 'like' 've' 'way' 'let' 'new' 'need'\n",
      " 'really' 'distribution' 'don' 'know']\n",
      "Centroid: 11\n",
      "['use' 'used' 'using' 'need' 'work' 'want' 'like' 'way' 'better' 'does'\n",
      " 'sure' 'help' 'make' 'don' 'know']\n",
      "Centroid: 12\n",
      "['help' 'thanks' 'need' 'mail' 'does' 'university' 'know' 'use' 'work'\n",
      " 'computer' 'reply' 'problem' 'got' 'want' 'really']\n",
      "Centroid: 13\n",
      "['world' 'distribution' 'nntp' 'host' 'posting' 'reply' 'thanks' 'com'\n",
      " 'help' '10' 'usa' 'edu' 'work' 'university' 'mail']\n",
      "Centroid: 14\n",
      "['people' 'things' 'say' 'just' 'believe' 'said' 'right' 'don' 'did'\n",
      " 'world' 'make' 'point' 'think' 'like' 'way']\n",
      "Centroid: 15\n",
      "['said' 'people' 'news' 'say' 'did' 'going' 'work' 'time' 'like' 'think'\n",
      " '10' 'got' 'just' 'long' 'know']\n",
      "Centroid: 16\n",
      "['make' 'just' 'like' 'does' 'people' 'want' 'really' 'sure' 'don' 'got'\n",
      " 'new' 'question' 'case' 'writes' 'article']\n",
      "Centroid: 17\n",
      "['work' 'use' 'doesn' 'way' 'does' 'need' 'problem' 've' 'better'\n",
      " 'article' 'long' 'want' 'make' 'edu' 'just']\n",
      "Centroid: 18\n",
      "['long' 'time' 'years' 'work' 'make' 'better' 'really' 'like' 'just'\n",
      " 'right' 'way' 'writes' 'com' 'point' 'good']\n",
      "Centroid: 19\n",
      "['edu' 'university' 'nntp' 'host' 'posting' 'reply' 'thanks' 'state' 'new'\n",
      " 'mail' 'need' 'got' 'distribution' 'help' '10']\n",
      "Centroid: 20\n",
      "['ca' 'university' 'thanks' 'writes' 'posting' 'nntp' 'host' 'article'\n",
      " 'reply' 'got' 'used' 'mail' 'll' 've' 'distribution']\n",
      "Centroid: 21\n",
      "['let' 'know' 'mail' 'll' 'com' 've' 'say' 'thanks' 'got' 'writes' 'just'\n",
      " 'said' 'did' 'way' 'time']\n",
      "Centroid: 22\n",
      "['want' 'don' 'just' 'use' 'writes' 'way' 'need' 'mail' 'better' 'know'\n",
      " 'like' 'people' 'right' 'state' 'help']\n",
      "Centroid: 23\n",
      "['does' 'know' 'thanks' 'university' 'way' 'like' 've' 'ca' 'work'\n",
      " 'question' 'use' 'com' 'problem' 'just' 'think']\n",
      "Centroid: 24\n",
      "['going' 'way' 'just' 'right' 'got' 'll' 'said' 'don' 'writes' 'people'\n",
      " 'think' 'know' 'really' 'article' 'did']\n",
      "Centroid: 25\n",
      "['com' 'reply' 'writes' 'article' 'posting' 'nntp' 'host' 'said' 'believe'\n",
      " 'distribution' 'world' 'ca' 'news' 'got' 'don']\n",
      "Centroid: 26\n",
      "['used' 'use' 'new' 'com' 'way' 'using' 'work' '10' 'computer'\n",
      " 'distribution' 'know' 'make' 'question' 'mail' 'like']\n",
      "Centroid: 27\n",
      "['think' 'don' 'people' 'things' 'say' 'like' 'really' 'way' 'just'\n",
      " 'writes' 'better' 'believe' 'good' 'did' 'point']\n",
      "Centroid: 28\n",
      "['things' 'like' 'people' 'way' 'believe' 'thing' 'don' 'make' 'just'\n",
      " 'said' 'say' 'know' 'think' 'better' 'time']\n",
      "Centroid: 29\n",
      "['case' 'usa' 'nntp' 'posting' 'host' 'edu' 'university' 'reply' 'just'\n",
      " 'article' 'say' 'used' 'distribution' 'state' 'don']\n",
      "Centroid: 30\n",
      "['10' 'new' 'reply' 'make' 'll' 'years' 'usa' 'got' 'mail' 'using' 'want'\n",
      " 've' 'distribution' 'state' 'ca']\n",
      "Centroid: 31\n",
      "['believe' 'say' 'people' 'think' 'does' 'don' 'point' 'know' 'way' 'said'\n",
      " 'doesn' 'going' 'question' 'right' 'did']\n",
      "Centroid: 32\n",
      "['state' 'university' 'edu' 'article' 'new' '10' 'used' 'host' 'nntp'\n",
      " 'writes' 'usa' 'years' 'posting' 'news' 'distribution']\n",
      "Centroid: 33\n",
      "['article' 'writes' 'edu' 'com' 'news' 'university' 'way' 'think' 'like'\n",
      " 'just' 'state' 'did' 'ca' 'got' 'said']\n",
      "Centroid: 34\n",
      "['problem' 'using' 'help' 'thanks' 'computer' 'use' 'used' 'work' 'got'\n",
      " 'just' 'time' 'know' 'need' 'don' 've']\n",
      "Centroid: 35\n",
      "['question' 'thanks' 'does' 'way' 'reply' 'did' 'time' 'article' 'problem'\n",
      " 'don' 'computer' 'really' 'used' 'say' 'want']\n",
      "Centroid: 36\n",
      "['did' 'know' 'writes' 'said' 'got' 'say' 'make' 'way' 'let' 'case'\n",
      " 'years' 'point' 'think' 'people' 'right']\n",
      "Centroid: 37\n",
      "['news' 'edu' 'host' 'nntp' 'posting' 'mail' 'university' 'article'\n",
      " 'writes' 'world' 'reply' 'cs' 'said' 'thanks' 'distribution']\n",
      "Centroid: 38\n",
      "['say' 'did' 'way' 'people' 'think' 'just' 'point' 'don' 'doesn' 'writes'\n",
      " 'years' 'know' 'believe' 'things' 'does']\n",
      "Centroid: 39\n",
      "['thing' 'way' 'just' 'good' 'did' 'writes' 'article' 'don' 'like' 'said'\n",
      " 'posting' 'nntp' 'long' 'used' 'host']\n",
      "Centroid: 40\n",
      "['point' 'com' 'case' 'believe' 'question' 'time' 'think' 'really' 'does'\n",
      " 'way' 'used' 'good' 'right' 'just' 'did']\n",
      "Centroid: 41\n",
      "['new' 'university' '10' 'distribution' 'state' 'news' 'years' 'used'\n",
      " 'got' 'like' 'long' 'said' 'edu' 'mail' 'thanks']\n",
      "Centroid: 42\n",
      "['computer' 'university' 'thanks' 'mail' 'usa' 'use' 'read' 'distribution'\n",
      " 'make' 'reply' 'cs' 'help' 'need' '10' 'know']\n",
      "Centroid: 43\n",
      "['using' 'use' 'help' 'want' 'does' 'need' 'thanks' 'used' 'work' 've'\n",
      " 'problem' 'time' 'like' 'distribution' 'make']\n",
      "Centroid: 44\n",
      "['need' 'thanks' 'help' '10' 'want' 'know' 'computer' 'got' 'com' 'work'\n",
      " 'going' 'sure' 'think' 'make' 'like']\n",
      "Centroid: 45\n",
      "['ve' 'got' 'just' 'going' 'problem' 'don' 'help' 'years' 'good' 'thanks'\n",
      " 'way' 'like' 'used' 'time' 'thing']\n",
      "Centroid: 46\n",
      "['better' 'good' 'think' 'ca' 'article' 'way' 'writes' 'point' 'right'\n",
      " 'say' 'going' 'really' 'years' 'don' 'just']\n",
      "Centroid: 47\n",
      "['using' 'host' 'nntp' 'posting' 'problem' 'edu' 'distribution' 'use'\n",
      " 'help' 'world' 've' 'used' 'usa' 'question' 'ca']\n",
      "Centroid: 48\n",
      "['really' 'think' 'like' 'did' 'writes' 'want' 'just' 'good' 'does' 'don'\n",
      " 'need' 've' 'sure' 'article' 'thing']\n",
      "Centroid: 49\n",
      "['don' 'know' 'like' 'just' 'way' 'people' 'good' 'going' 'think' 'doesn'\n",
      " 'things' 'say' 'sure' 'll' 'want']\n",
      "Centroid: 50\n",
      "['time' 'just' 'like' 'long' 'think' 'read' 'said' 'problem' 'did' 'make'\n",
      " 'world' 'years' 'got' 'really' 'way']\n"
     ]
    }
   ],
   "source": [
    "feature_names = np.array(vectorizer.get_feature_names()) # Get feature names\n",
    "centroids = kmeans.cluster_centers_ # Get cluster's centroid\n",
    "for i, centroid in enumerate(centroids):\n",
    "    print(\"Centroid: %d\"%i)\n",
    "    tfidf_sorting = np.argsort(np.array(centroid)).flatten()[::-1] # Sorting tf-idf in centroid\n",
    "    top_n = feature_names[tfidf_sorting][:15] # Get 15 word with top frequency\n",
    "    print(top_n)"
   ],
   "metadata": {
    "collapsed": false,
    "pycharm": {
     "name": "#%%\n"
    }
   }
  }
 ],
 "metadata": {
  "kernelspec": {
   "display_name": "Python 3",
   "language": "python",
   "name": "python3"
  },
  "language_info": {
   "codemirror_mode": {
    "name": "ipython",
    "version": 3
   },
   "file_extension": ".py",
   "mimetype": "text/x-python",
   "name": "python",
   "nbconvert_exporter": "python",
   "pygments_lexer": "ipython3",
   "version": "3.6.8"
  }
 },
 "nbformat": 4,
 "nbformat_minor": 2
}