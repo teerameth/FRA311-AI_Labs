{
 "cells": [
  {
   "cell_type": "markdown",
   "metadata": {},
   "source": [
    "# 2 Sentiment Analysis\n",
    "## 2.2 Movie Review Data\n",
    "\n",
    "Let us first start by looking at the data provided with the exercise. We have positive and negative movie reviews labeled by human readers, all positive and negative reviews are in the ‘pos’ and ‘neg’ folders respectively. If you look in- side a sample file, you will see that these review messages have been ‘tokenized’, where all words are separated from punctuations.\n",
    "There are approximately 1000 files in each category with files names starting with cv000, cv001, cv002 and so on. You will split the dataset into training set and testing set.\n",
    "\n",
    "1. Write some code to load the data from text files."
   ]
  },
  {
   "cell_type": "code",
   "execution_count": null,
   "metadata": {
    "collapsed": true
   },
   "outputs": [],
   "source": []
  },
  {
   "cell_type": "markdown",
   "metadata": {},
   "source": [
    "## 2.3 TF-IDF\n",
    "From a raw text review, you want to create a vector, whose elements indicate the number of each word in each document. The frequency of all words within the documents are the ‘features’ of this machine learning problem.\n",
    "\n",
    "A popular method for transforming a text to a vector is called tf-idf, short for term frequencyinverse document frequency.\n",
    "\n",
    "1. Conduct a research about tf-idf and explain how it works.\n",
    "2. Scikit-learn provides a module for calculating this, this is called TfidfVec- torizer.\n",
    "You can study how this function is used here:\n",
    "\n",
    "`http://scikit-learn.org/stable/modules/generated/sklearn.feature_extraction.text.TfidfVectorizer.html`\n",
    "\n",
    "Write code to transform your text to tf-idf vector."
   ]
  },
  {
   "cell_type": "code",
   "execution_count": null,
   "metadata": {
    "collapsed": true
   },
   "outputs": [],
   "source": []
  },
  {
   "cell_type": "markdown",
   "metadata": {},
   "source": [
    "## 2.4 Classification\n",
    "\n",
    "Use 4 different models to classify each movie into positive or negative category.\n",
    "\n",
    "1. K-Nearestneighbormodel,using module `sklearn.neighbors.KNeighborsClassifier`\n",
    "2. RandomForest, using module `sklearn.ensemble.RandomForestClassifier`\n",
    "3. SVM, using module `sklearn.svm.SVC`\n",
    "4. Neural network, using `sklearn.neural_network.MLPClassifier`\n",
    "\n",
    "You may pick other models you would like to try. Just present results for at least 4 models.\n",
    "Please provide your code for model fitting and cross validation. Calculate your classification accuracy, precision, and recall."
   ]
  },
  {
   "cell_type": "code",
   "execution_count": null,
   "metadata": {
    "collapsed": true
   },
   "outputs": [],
   "source": []
  },
  {
   "cell_type": "markdown",
   "metadata": {},
   "source": [
    "## 2.5 Model Tuning\n",
    "\n",
    "Can you try to beat the simple model you created above? Here are some things you may try:\n",
    "\n",
    "* When creating TfidfVectorizer object, you may tweak sublinear_tf parameter which use the tf with logarithmic scale instead of the usual tf.\n",
    "* You may also exclude words that are too frequent or too rare, by adjusting max_df and min_df.\n",
    "* Adjusting parameters available in the model, like neural network structure or number of trees in the forest.\n",
    "\n",
    "Design at least 3 experiments using these techniques. Show your experimental results.\n"
   ]
  },
  {
   "cell_type": "code",
   "execution_count": null,
   "metadata": {
    "collapsed": true
   },
   "outputs": [],
   "source": []
  },
  {
   "cell_type": "markdown",
   "metadata": {},
   "source": [
    "# 3 Text Clustering\n",
    "We have heard about Google News clustering. In this exercise, we are going to implement it with Python.\n",
    "\n",
    "## 3.1 Data Preprocessing\n",
    "Let’s switch up and use another dataset called 20newsgroup data, which is a collection of approximately 20,000 newsgroup documents, partitioned (nearly) evenly across 20 different newsgroups. The data is collected from a university’s mailing list, where students exchange opinions in everything from motorcycles to middle east politics.\n",
    "\n",
    "1. Import data using sklearn.datasets.fetch_20newsgroups \n",
    "2. Transform data to vector with TfidfVectorizer"
   ]
  },
  {
   "cell_type": "code",
   "execution_count": null,
   "metadata": {
    "collapsed": true
   },
   "outputs": [],
   "source": []
  },
  {
   "cell_type": "markdown",
   "metadata": {},
   "source": [
    "## 3.2 Clustering\n",
    "We are going to use the simplest clustering model, k-means clustering, to do this task. Our hope is that this simple algorithm will result in meaningful news categories, without using labels.\n",
    "\n",
    "1. Fit K-Means clustering model to the text vector. What is the value of K you should pick? Why?\n",
    "2. Use Silhouette score to evaluate your clusters. Try to evaluate the model for different values of k to see which k fits best for the dataset."
   ]
  },
  {
   "cell_type": "code",
   "execution_count": null,
   "metadata": {
    "collapsed": true
   },
   "outputs": [],
   "source": []
  },
  {
   "cell_type": "markdown",
   "metadata": {},
   "source": [
    "# 3.3 Topic Terms\n",
    "We want to explore each cluster to understand what news articles are in the cluster, what terms are associated with the cluster. This will require a bit of hacking.\n",
    "1. Use TfidfVectorizer.get feature names to extract words associated with each dimension of the text vector.\n",
    "2. Extract cluster’s centroids using kmeans.cluster centers .\n",
    "3. For each centroid, print the top 15 words that have the highest frequency."
   ]
  },
  {
   "cell_type": "code",
   "execution_count": null,
   "metadata": {
    "collapsed": true
   },
   "outputs": [],
   "source": []
  }
 ],
 "metadata": {
  "kernelspec": {
   "display_name": "Python 3",
   "language": "python",
   "name": "python3"
  },
  "language_info": {
   "codemirror_mode": {
    "name": "ipython",
    "version": 3
   },
   "file_extension": ".py",
   "mimetype": "text/x-python",
   "name": "python",
   "nbconvert_exporter": "python",
   "pygments_lexer": "ipython3",
   "version": "3.6.8"
  }
 },
 "nbformat": 4,
 "nbformat_minor": 2
}
